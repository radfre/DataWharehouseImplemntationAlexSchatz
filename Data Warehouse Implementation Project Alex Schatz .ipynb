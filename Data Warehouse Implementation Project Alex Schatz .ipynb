{
 "metadata": {
  "kernelspec": {
   "display_name": "Streamlit Notebook",
   "name": "streamlit"
  },
  "lastEditStatus": {
   "notebookId": "pppvcsd5lbfb7qc7tckg",
   "authorId": "6787178515854",
   "authorName": "ASCHATZ",
   "authorEmail": "aschatz@hawk.iit.edu",
   "sessionId": "4dfa88ac-ec0e-4a9f-922f-97d0533def5b",
   "lastEditTime": 1742177503665
  }
 },
 "nbformat_minor": 5,
 "nbformat": 4,
 "cells": [
  {
   "cell_type": "markdown",
   "id": "40ac9a65-ab58-41f1-910e-b2c9f0449226",
   "metadata": {
    "name": "cell1",
    "collapsed": false
   },
   "source": "# Transalate Kaggle data into Source table"
  },
  {
   "cell_type": "code",
   "id": "69848991-b6e7-4ec0-aa40-745181dc5ef9",
   "metadata": {
    "language": "python",
    "name": "STEP2",
    "collapsed": false,
    "codeCollapsed": false
   },
   "outputs": [],
   "source": "# Import python packages\nimport streamlit as st\nimport pandas as pd\nimport numpy as np\nimport matplotlib.pyplot as plt\n\n\n# We can also use Snowpark for our analyses!\nfrom snowflake.snowpark.context import get_active_session\nfrom snowflake.snowpark import functions as F\nfrom snowflake.snowpark.window import Window\nsession = get_active_session()\n\n\ndf_amazon = session.table(\"hulu_MOVIES_TV\")\ndf_disney = session.table(\"disney_MOVIES_TV\")\ndf_hulu = session.table(\"HULU_MOVIES_TV\")\ndf_netflix = session.table(\"netflix_MOVIES_TV\")\n\ndf_industry = session.table(\"INDUSTRY_MOVIES\")\ndf_IMDB = session.table(\"IMDB_MOVIE_REVIEWS\")\n\n\n\n# Select only the required columns for df_amazon\ndf_amazon_with_columns = df_amazon \\\n    .select(\"TYPE\", \"TITLE\", \"DIRECTOR\", \"CAST\", \"COUNTRY\", \"RATING\", \"DATE_ADDED\", \n            \"RELEASE_YEAR\", \"DURATION\", \"LISTED_IN\")\n\n# Select only the required columns for df_disney\ndf_disney_with_columns = df_disney \\\n    .select(\"TYPE\", \"TITLE\", \"DIRECTOR\", \"CAST\", \"COUNTRY\", \"RATING\", \"DATE_ADDED\", \n            \"RELEASE_YEAR\", \"DURATION\", \"LISTED_IN\")\n\n# Select only the required columns for df_hulu\ndf_hulu_with_columns = df_hulu \\\n    .select(\"TYPE\", \"TITLE\", \"DIRECTOR\", \"CAST\", \"COUNTRY\", \"RATING\", \"DATE_ADDED\", \n            \"RELEASE_YEAR\", \"DURATION\", \"LISTED_IN\")\n\n# Select only the required columns for df_netflix\ndf_netflix_with_columns = df_netflix \\\n    .select(\"TYPE\", \"TITLE\", \"DIRECTOR\", \"CAST\", \"COUNTRY\", \"RATING\", \"DATE_ADDED\", \n            \"RELEASE_YEAR\", \"DURATION\", \"LISTED_IN\")\n\n# Union all the DataFrames into df_movie with the required columns\ndf_movie = df_amazon_with_columns \\\n    .union(df_disney_with_columns) \\\n    .union(df_hulu_with_columns) \\\n    .union(df_netflix_with_columns)\n\n# Drop duplicate titles\ndf_movie = df_movie.groupBy(\"TITLE\").agg(\n    F.coalesce(F.max(\"TYPE\"), F.lit(None)).alias(\"TYPE\"),\n    F.coalesce(F.max(\"DIRECTOR\"), F.lit(None)).alias(\"DIRECTOR\"),\n    F.coalesce(F.max(\"CAST\"), F.lit(None)).alias(\"CAST\"),\n    F.coalesce(F.max(\"COUNTRY\"), F.lit(None)).alias(\"COUNTRY\"),\n    F.coalesce(F.max(\"RATING\"), F.lit(None)).alias(\"RATING\"),\n    F.coalesce(F.max(\"DATE_ADDED\"), F.lit(None)).alias(\"DATE_ADDED\"),\n    F.coalesce(F.max(\"RELEASE_YEAR\"), F.lit(None)).alias(\"RELEASE_YEAR\"),\n    F.coalesce(F.max(\"DURATION\"), F.lit(None)).alias(\"DURATION\"),\n    F.coalesce(F.max(\"LISTED_IN\"), F.lit(None)).alias(\"LISTED_IN\")\n)\n\n# Add primary key (row number)\ndf_movie = df_movie.withColumn(\"Movies_key\", F.row_number().over(Window.orderBy(F.lit(1))))\n\n# Save to table (assuming Snowflake environment is set up)\ndf_movie.write \\\n    .mode(\"overwrite\") \\\n    .saveAsTable(\"MOVIES_TV\")\n\n\n### adding streaming tags\n# Add 'amazon_rating' and 'amazon' flag\ndf_amazon_with_rating = df_amazon \\\n    .select(\"TITLE\") \\\n    .with_column(\"amazon\", F.lit(True))\n\n# Add 'disney_rating' and 'disney' flag\ndf_disney_with_rating = df_disney \\\n    .select(\"TITLE\") \\\n    .with_column(\"disney\", F.lit(True))\n\n# Add 'hulu_rating' and 'hulu' flag\ndf_hulu_with_rating = df_hulu \\\n    .select(\"TITLE\") \\\n    .with_column(\"hulu\", F.lit(True))\n\n# Add 'netflix_rating' and 'netflix' flag\ndf_netflix_with_rating = df_netflix \\\n    .select(\"TITLE\") \\\n    .with_column(\"netflix\", F.lit(True))\n\n# Perform left joins with df_movie\ndf_movie = df_movie \\\n    .join(df_amazon_with_rating, on=\"TITLE\", how=\"left\") \\\n    .join(df_disney_with_rating, on=\"TITLE\", how=\"left\") \\\n    .join(df_hulu_with_rating, on=\"TITLE\", how=\"left\") \\\n    .join(df_netflix_with_rating, on=\"TITLE\", how=\"left\")\n\n\n# Save to table (assuming Snowflake environment is set up)\ndf_movie.write \\\n    .mode(\"overwrite\") \\\n    .save_as_table(\"MOVIES_TV\")\n\n# join iMBD TABLE and INDUSTRY Table \ndf_industry = df_industry.select(\n    df_industry[\"NAME\"].alias(\"TITLE\"),\n    df_industry[\"SCORE\"].alias(\"INDUSTRY_SCORE\"),\n    df_industry[\"VOTES\"].alias(\"INDUSTRY_VOTES\"),\n    df_industry[\"Budget\"],\n    df_industry[\"GROSS\"],\n    df_industry[\"COMPANY\"]\n)\n\ndf_IMDB = df_IMDB.select(\n    df_IMDB[\"NAME\"].alias(\"TITLE\"),\n    df_IMDB[\"IMBD_ID\"].alias(\"IMBD\"),\n    df_IMDB[\"RATING\"].alias(\"IMBD_RATING\"),\n    df_IMDB[\"METASCORE\"],\n    df_IMDB[\"VOTES\"].alias(\"IMBD_VOTES\")\n)\n\n# Perform a left join on the \"TITLE\" column\ndf_INDUSTRY_JOIN = df_industry.join(df_IMDB, on=\"TITLE\", how=\"inner\")\n\n# Save to table (assuming Snowflake environment is set up)\ndf_INDUSTRY_JOIN.write \\\n    .mode(\"overwrite\") \\\n    .save_as_table(\"MOVIES_TV_REVIEWS\")\n\n# Perform a left join on the \"TITLE\" column\ndf_streaming = df_movie.join(df_INDUSTRY_JOIN, on=\"TITLE\", how=\"\")\ndf_streaming.show()\n\n\n# Trim leading/trailing whitespace and ensure the month is in the proper 3-letter format.\ndf_streaming_filled = df_streaming.with_column(\n    \"DATE_ADDED\",\n    F.to_char(\n        F.to_date(\n            F.trim(F.col(\"DATE_ADDED\")),  # Trim any leading/trailing spaces\n            \"MON DD, YYYY\"  # Ensure the date format is 'MON DD, YYYY'\n        ),\n        \"MM/DD/YYYY\"  # Convert to desired format\n    )\n)\n\n# Fill missing DATE_ADDED with the default value based on RELEASE_YEAR\ndf_streaming_filled = df_streaming_filled.with_column(\n    \"DATE_ADDED\",\n    F.when(\n        F.col(\"DATE_ADDED\").is_null(),  # If DATE_ADDED is null\n        F.concat(F.lit(\"01/01/\"), F.col(\"RELEASE_YEAR\").cast(\"string\"))\n    ).otherwise(F.col(\"DATE_ADDED\"))  # Keep existing DATE_ADDED if not null\n)\n\ndf_streaming_filled = df_streaming_filled.with_column(\n    \"RATING\", F.coalesce(F.col(\"RATING\"), F.lit(\"TV-PG\"))\n)\n\ndf_streaming_filled = df_streaming_filled.with_column(\n    \"COUNTRY\", F.coalesce(F.col(\"COUNTRY\"), F.lit(\"United States\"))\n)\n\n# Remove \"min\" and keep the numeric value\ndf_streaming_filled = df_streaming_filled.with_column(\n    \"DURATION\",\n    F.regexp_replace(F.col(\"DURATION\"), r\"\\s*min\", \"\")\n)\n\n# Remove \"season\" and keep the numeric value\ndf_streaming_filled = df_streaming_filled.with_column(\n    \"DURATION\",\n    F.regexp_replace(F.col(\"DURATION\"), r\"\\s*Season\\s*s*\", \"00\")\n)\n\n# Replace NULL values in the \"DURATION\" column with \"90 min\"\ndf_streaming_filled = df_streaming_filled.with_column(\n    \"DURATION\",\n    F.coalesce(F.col(\"DURATION\"), F.lit(\"90\"))\n)\n\n# Convert the DURATION column to numeric format, keeping the \"min\" part, so it's consistent.\ndf_streaming_filled = df_streaming_filled.with_column(\n    \"DURATION\",\n    F.concat(F.col(\"DURATION\"))\n)\n\n# Save to table (assuming Snowflake environment is set up)\ndf_streaming_filled.write \\\n    .mode(\"overwrite\") \\\n    .save_as_table(\"STREAMING_MOVIES_TV\")\n\ndf_streaming_filled.show()",
   "execution_count": null
  },
  {
   "cell_type": "markdown",
   "id": "0268d442-baca-44c9-b412-47d8b67067e2",
   "metadata": {
    "name": "cell2",
    "collapsed": false
   },
   "source": "# Creating normative table from STREAMING_MOVIES_TV\n\n\n## Entities\n\n### 1. **nf_movies_tv_shows**\n| **Field**       | **Type**  | **Description**                                        |\n|-----------------|-----------|--------------------------------------------------------|\n| MOVIES_KEY      | INT       | Primary Key. Unique identifier for each movie/show.    |\n| TITLE           | VARCHAR   | Title of the movie or TV show.                         |\n| TYPE            | VARCHAR   | Type of content (e.g., Movie, TV Show).                |\n| RATING          | VARCHAR   | Rating (e.g., TV-PG, R, NULL for some).                |\n| DATE_ADDED      | DATE      | Date when the movie/show was added.                    |\n| RELEASE_YEAR    | INT       | Year of release.                                       |\n| DURATION        | VARCHAR   | Duration of the movie/show (e.g., 88 min, 1 Season).   |\n| LISTED_IN       | VARCHAR   | Categories of the movie/show (e.g., Horror, Thriller). |\n\n### 2. **nf_cast**\n| **Field**       | **Type**  | **Description**                                        |\n|-----------------|-----------|--------------------------------------------------------|\n| MOVIES_KEY      | INT       | Foreign Key. References MOVIES_KEY in `nf_movies_tv_shows`. |\n| nf_cast            | VARCHAR   | Name(s) of the nf_cast members. (NULL if unavailable).    |\n\n### 3. **nf_countries**\n| **Field**       | **Type**  | **Description**                                        |\n|-----------------|-----------|--------------------------------------------------------|\n| MOVIES_KEY      | INT       | Foreign Key. References MOVIES_KEY in `nf_movies_tv_shows`. |\n| COUNTRY         | VARCHAR   | Country/Region where the movie/show is available.      |\n\n### 4. **nf_platforms**\n| **Field**       | **Type**  | **Description**                                        |\n|-----------------|-----------|--------------------------------------------------------|\n| MOVIES_KEY      | INT       | Foreign Key. References MOVIES_KEY in `nf_movies_tv_shows`. |\n| AMAZON          | BOOLEAN   | Availability on Amazon (True/False).                   |\n| DISNEY          | BOOLEAN   | Availability on Disney+ (True/False).                  |\n| HULU            | BOOLEAN   | Availability on Hulu (True/False).                     |\n| NETFLIX         | BOOLEAN   | Availability on Netflix (True/False).                  |\n\n### 5. **nf_ratings**\n| **Field**       | **Type**  | **Description**                                        |\n|-----------------|-----------|--------------------------------------------------------|\n| MOVIES_KEY      | INT       | Foreign Key. References MOVIES_KEY in `nf_movies_tv_shows`. |\n| IMBD            | INT       | IMDB ID for the movie/show.                            |\n| IMBD_RATING     | FLOAT     | IMDB rating of the movie/show.                         |\n| METASCORE       | INT       | Metascore rating of the movie/show.                    |\n| IMBD_VOTES      | INT       | Number of IMDB votes for the movie/show.               |\n\n### 6. **nf_industry**\n| **Field**       | **Type**  | **Description**                                        |\n|-----------------|-----------|--------------------------------------------------------|\n| MOVIES_KEY      | INT       | Foreign Key. References MOVIES_KEY in `nf_movies_tv_shows`. |\n| BUDGET          | DECIMAL   | Budget of the movie/show.                              |\n| GROSS           | DECIMAL   | Gross earnings of the movie/show.                      |\n| COMPANY         | VARCHAR   | Production company of the movie/show.                  |\n\n"
  },
  {
   "cell_type": "code",
   "id": "8fc21e44-a50e-4d4f-acbe-6cb436951892",
   "metadata": {
    "language": "sql",
    "name": "STEP3",
    "collapsed": true,
    "codeCollapsed": false
   },
   "outputs": [],
   "source": "\n-- deleting duplicate rows\nDELETE FROM STREAMING_MOVIES_TV\nWHERE MOVIES_KEY IN (\n    SELECT MOVIES_KEY\n    FROM STREAMING_MOVIES_TV\n    GROUP BY MOVIES_KEY\n    HAVING COUNT(*) > 1\n);\n\nCREATE OR REPLACE TABLE nf_movies_tv_shows AS\nSELECT \n    MOVIES_KEY, \n    TITLE, \n    TYPE, \n    RATING, \n    DATE_ADDED, \n    RELEASE_YEAR, \n    DURATION, \n    LISTED_IN\nFROM STREAMING_MOVIES_TV;\nALTER TABLE nf_movies_tv_shows\nADD PRIMARY KEY (MOVIES_KEY);\n\n\nCREATE OR REPLACE TABLE nf_cast AS\nSELECT \n    MOVIES_KEY, \n    \"CAST\"\nFROM STREAMING_MOVIES_TV\nWHERE \"CAST\" IS NOT NULL;\nALTER TABLE nf_countries\nADD CONSTRAINT fk_movies_key FOREIGN KEY (MOVIES_KEY) REFERENCES nf_movies_tv_shows(MOVIES_KEY);\n\n\nCREATE OR REPLACE TABLE nf_countries AS\nSELECT \n    MOVIES_KEY, \n    COUNTRY\nFROM STREAMING_MOVIES_TV\nWHERE COUNTRY IS NOT NULL;\nALTER TABLE nf_countries\nADD CONSTRAINT fk_movies_key FOREIGN KEY (MOVIES_KEY) REFERENCES nf_movies_tv_shows(MOVIES_KEY);\n\n\nCREATE OR REPLACE TABLE nf_platforms AS\nSELECT \n    MOVIES_KEY, \n    amazon, \n    disney, \n    hulu, \n    netflix\nFROM STREAMING_MOVIES_TV;\nALTER TABLE nf_platforms\nADD CONSTRAINT fk_movies_key FOREIGN KEY (MOVIES_KEY) REFERENCES nf_movies_tv_shows(MOVIES_KEY);\n\n\nCREATE OR REPLACE TABLE nf_ratings AS\nSELECT \n    MOVIES_KEY, \n    IMBD, \n    IMBD_RATING, \n    METASCORE, \n    IMBD_VOTES\nFROM STREAMING_MOVIES_TV;\nALTER TABLE nf_ratings\nADD CONSTRAINT fk_movies_key FOREIGN KEY (MOVIES_KEY) REFERENCES nf_movies_tv_shows(MOVIES_KEY);\n\n\nCREATE OR REPLACE TABLE nf_industry AS\nSELECT \n    MOVIES_KEY, \n    BUDGET, \n    GROSS, \n    COMPANY\nFROM STREAMING_MOVIES_TV;\nALTER TABLE nf_industry\nADD CONSTRAINT fk_movies_key FOREIGN KEY (MOVIES_KEY) REFERENCES nf_movies_tv_shows(MOVIES_KEY);\n",
   "execution_count": null
  },
  {
   "cell_type": "markdown",
   "id": "252d6d3b-dc22-47b8-b1ec-ccea18c8fd48",
   "metadata": {
    "name": "cell3",
    "collapsed": false
   },
   "source": "# ETL Transformation and dimension modeling\n\n### 1. **DIM_DATES**\n| **Field**        | **Type**  | **Description**                                             |\n|------------------|-----------|-------------------------------------------------------------|\n| `date_key`       | INT       | Primary Key. Unique identifier for each date.               |\n| `year_value`     | INT       | Year of the date.                                           |\n| `month_value`    | INT       | Month of the date.                                          |\n| `day_value`      | INT       | Day of the month.                                           |\n| `quarter_fiscal` | INT       | Fiscal quarter of the year (1 to 4).                        |\n| `is_week_day`    | BOOLEAN   | Whether the day is a weekday (TRUE) or weekend (FALSE).     |\n\n---\n\n### 2. **DIM_PERFORMANCE**\n| **Field**        | **Type**  | **Description**                                             |\n|------------------|-----------|-------------------------------------------------------------|\n| `PERFORMANCE_KEY`| INT       | Primary Key. Unique identifier for the performance record.  |\n| `GROSS`          | INT       | Gross earnings of the movie/show.                           |\n| `BUDGET`         | INT       | Budget of the movie/show.                                   |\n| `IMBD_NUM`       | INT       | IMDb ID for the movie/show.                                 |\n| `METASCORE`      | VARCHAR   | Metascore rating of the movie/show.                         |\n| `VOTES`          | INT       | Number of IMDb votes for the movie/show.                    |\n\n---\n\n### 3. **DIM_JUNK**\n| **Field**        | **Type**  | **Description**                                             |\n|------------------|-----------|-------------------------------------------------------------|\n| `JUNK_KEY`       | INT       | Primary Key. Unique identifier for the junk record.         |\n| `LISTED_IN`      | VARCHAR   | Categories of the movie/show (e.g., Horror, Thriller).      |\n| `DURATION`       | INT       | Duration of the movie/show (e.g., in minutes or seasons).   |\n| `CAST`           | VARCHAR   | Names of the cast members.                                  |\n| `DIRECTOR`       | VARCHAR   | Director(s) of the movie/show (optional, may be NULL).      |\n| `RATING`         | VARCHAR   | Rating of the movie/show (e.g., PG, R).                     |\n| `AMAZON`         | VARCHAR   | Availability on Amazon (e.g., Yes, No).                     |\n| `DISNEY`         | VARCHAR   | Availability on Disney+ (e.g., Yes, No).                    |\n| `HULU`           | VARCHAR   | Availability on Hulu (e.g., Yes, No).                       |\n| `NETFLIX`        | VARCHAR   | Availability on Netflix (e.g., Yes, No).                    |\n\n---\n\n### 4. **FACT_MOVIE_PERFORMANCE**\n| **Field**        | **Type**  | **Description**                                             |\n|------------------|-----------|-------------------------------------------------------------|\n| `MOVIE_ID`       | INT       | Primary Key. Unique identifier for the movie/show.          |\n| `JUNK_KEY`       | INT       | Foreign Key. References `JUNK_KEY` in `DIM_JUNK`.           |\n| `PERFORMANCE_KEY`| INT       | Foreign Key. References `PERFORMANCE_KEY` in `DIM_PERFORMANCE`. |\n| `DATE_KEY`       | INT       | Foreign Key. References `DATE_KEY` in `DIM_DATES`.          |\n\n---\n"
  },
  {
   "cell_type": "code",
   "id": "d7a7a740-8651-4d8b-8a19-6a2c7f8f5d2e",
   "metadata": {
    "language": "sql",
    "name": "STEP4",
    "codeCollapsed": false
   },
   "outputs": [],
   "source": "CREATE OR REPLACE TABLE DIM_DATES (\n    date_key INT PRIMARY KEY,\n    year_value INT,\n    month_value INT,\n    day_value INT,\n    quarter_fiscal INT,\n    is_week_day BOOLEAN\n);\n\nCREATE OR REPLACE TABLE DIM_PERFORMANCE (\n    PERFORMANCE_KEY INT PRIMARY KEY,\n    GROSS INT,\n    BUDGET INT,\n    IMBD_NUM INT,\n    METASCORE VARCHAR,\n    VOTES INT\n);\n\nCREATE OR REPLACE TABLE DIM_JUNK (\n    JUNK_KEY INT PRIMARY KEY,\n    LISTED_IN VARCHAR,\n    DURATION INT,\n    CAST VARCHAR,\n    DIRECTOR VARCHAR,\n    RATING VARCHAR,\n    AMAZON VARCHAR,\n    DISNEY VARCHAR,\n    HULU VARCHAR,\n    NETFLIX VARCHAR\n);\n\nCREATE OR REPLACE TABLE FACT_MOVIE_PERFORMANCE (\n    MOVIE_ID INT PRIMARY KEY,\n    MOVIE_TITLE VARCHAR, -- New column for movie title\n    JUNK_KEY INT,\n    PERFORMANCE_KEY INT,\n    DATE_KEY INT,\n    FOREIGN KEY (JUNK_KEY) REFERENCES DIM_JUNK(JUNK_KEY),\n    FOREIGN KEY (PERFORMANCE_KEY) REFERENCES DIM_PERFORMANCE(PERFORMANCE_KEY),\n    FOREIGN KEY (DATE_KEY) REFERENCES DIM_DATES(date_key)\n);\n\n\n-- Inserting data into DIM_DATES with renamed columns\nINSERT INTO DATAWHAREHOUSEPROJECT.PUBLIC.DIM_DATES (date_key, year_value, month_value, day_value, quarter_fiscal, is_week_day)\nSELECT\n    MM.movies_key AS date_key, -- Replaced date_key with MM.movies_key\n    EXTRACT(YEAR FROM TO_DATE(MM.DATE_ADDED, 'MM/DD/YYYY')) AS year_value,\n    EXTRACT(MONTH FROM TO_DATE(MM.DATE_ADDED, 'MM/DD/YYYY')) AS month_value, \n    EXTRACT(DAY FROM TO_DATE(MM.DATE_ADDED, 'MM/DD/YYYY')) AS day_value, \n    CASE \n        WHEN EXTRACT(MONTH FROM TO_DATE(MM.DATE_ADDED, 'MM/DD/YYYY')) BETWEEN 1 AND 3 THEN 1\n        WHEN EXTRACT(MONTH FROM TO_DATE(MM.DATE_ADDED, 'MM/DD/YYYY')) BETWEEN 4 AND 6 THEN 2\n        WHEN EXTRACT(MONTH FROM TO_DATE(MM.DATE_ADDED, 'MM/DD/YYYY')) BETWEEN 7 AND 9 THEN 3\n        ELSE 4\n    END AS quarter_fiscal,\n    CASE \n        WHEN TO_CHAR(TO_DATE(MM.DATE_ADDED, 'MM/DD/YYYY'), 'D') IN ('1', '7') THEN FALSE\n        ELSE TRUE\n    END AS is_week_day\nFROM DATAWHAREHOUSEPROJECT.PUBLIC.NF_MOVIES_TV_SHOWS MM;\n\n-- Inserting data into DIM_PERFORMANCE with handling of commas in numeric values\nINSERT INTO DATAWHAREHOUSEPROJECT.PUBLIC.DIM_PERFORMANCE (PERFORMANCE_KEY, GROSS, BUDGET, IMBD_NUM, METASCORE, VOTES)\nSELECT\n    MM.MOVIES_KEY AS PERFORMANCE_KEY,\n    TO_NUMBER(REPLACE(NI.GROSS, ',', '')) AS GROSS,   \n    TO_NUMBER(REPLACE(NI.BUDGET, ',', '')) AS BUDGET,   \n    TO_NUMBER(REPLACE(NR.IMBD, ',', '')) AS IMBD_NUM,   \n    NR.METASCORE,\n    TO_NUMBER(REPLACE(NR.IMBD_VOTES, ',', '')) AS VOTES  \nFROM DATAWHAREHOUSEPROJECT.PUBLIC.NF_MOVIES_TV_SHOWS MM\nJOIN DATAWHAREHOUSEPROJECT.PUBLIC.NF_INDUSTRY NI ON MM.MOVIES_KEY = NI.MOVIES_KEY\nJOIN DATAWHAREHOUSEPROJECT.PUBLIC.NF_RATINGS NR ON MM.MOVIES_KEY = NR.MOVIES_KEY;\n\n-- Inserting data into DIM_JUNK without DIRECTOR\nINSERT INTO DATAWHAREHOUSEPROJECT.PUBLIC.DIM_JUNK (JUNK_KEY, LISTED_IN, DURATION, CAST, RATING, AMAZON, DISNEY, HULU, NETFLIX)\nSELECT\n    MM.MOVIES_KEY AS JUNK_KEY,  -- Explicitly qualify MOVIES_KEY\n    MM.LISTED_IN,\n    TO_NUMBER(MM.DURATION) AS DURATION,  -- Assuming DURATION should be numeric\n    NC.CAST,\n    MM.RATING,\n    NP.AMAZON,\n    NP.DISNEY,\n    NP.HULU,\n    NP.NETFLIX\nFROM DATAWHAREHOUSEPROJECT.PUBLIC.NF_MOVIES_TV_SHOWS MM\nJOIN DATAWHAREHOUSEPROJECT.PUBLIC.NF_CAST NC ON MM.MOVIES_KEY = NC.MOVIES_KEY\nJOIN DATAWHAREHOUSEPROJECT.PUBLIC.NF_PLATFORMS NP ON MM.MOVIES_KEY = NP.MOVIES_KEY;\n\nINSERT INTO DATAWHAREHOUSEPROJECT.PUBLIC.FACT_MOVIE_PERFORMANCE (MOVIE_ID, MOVIE_TITLE, JUNK_KEY, PERFORMANCE_KEY, DATE_KEY)\nSELECT DISTINCT\n    MM.MOVIES_KEY AS MOVIE_ID,  -- Explicitly qualify MOVIES_KEY\n    MM.TITLE AS MOVIE_TITLE,    -- Correctly reference MOVIE_TITLE\n    DJ.JUNK_KEY,\n    DP.PERFORMANCE_KEY,\n    DD.date_key\nFROM DATAWHAREHOUSEPROJECT.PUBLIC.NF_MOVIES_TV_SHOWS MM\nJOIN DATAWHAREHOUSEPROJECT.PUBLIC.DIM_JUNK DJ ON MM.MOVIES_KEY = DJ.JUNK_KEY\nJOIN DATAWHAREHOUSEPROJECT.PUBLIC.DIM_PERFORMANCE DP ON MM.MOVIES_KEY = DP.PERFORMANCE_KEY\nJOIN DATAWHAREHOUSEPROJECT.PUBLIC.DIM_DATES DD \n    ON EXTRACT(YEAR FROM TO_DATE(MM.RELEASE_YEAR, 'YYYY')) = DD.year_value  -- Match by year\nWHERE DD.year_value IS NOT NULL;\n\n",
   "execution_count": null
  },
  {
   "cell_type": "code",
   "id": "d583c2e4-1335-43bf-89aa-5bceece0048f",
   "metadata": {
    "language": "python",
    "name": "cell4"
   },
   "outputs": [],
   "source": "df_dim_dates = session.table(\"DIM_DATES\")\ndf_dim_performance = session.table(\"DIM_performance\")\ndf_dim_junk = session.table(\"DIM_junk\")\ndf_FACT_MOVIE_PERFORMANCE = session.table(\"FACT_MOVIE_PERFORMANCE\")\n\n",
   "execution_count": null
  },
  {
   "cell_type": "code",
   "id": "21dce346-8d9a-47a4-9bff-2b7e5f5be2c4",
   "metadata": {
    "language": "python",
    "name": "cell5"
   },
   "outputs": [],
   "source": "from snowflake.snowpark.functions import col, avg\nimport matplotlib.pyplot as plt\n\n# Aggregating the average gross by fiscal quarter\ndf_avg_gross_by_quarter = (df_dim_dates\n                           .join(df_dim_performance, df_dim_dates.date_key == df_dim_performance.PERFORMANCE_KEY)\n                           .group_by(df_dim_dates.quarter_fiscal)\n                           .agg(avg(df_dim_performance.GROSS).alias(\"avg_gross\"))\n                           .sort(col(\"quarter_fiscal\"))\n)\n\n# Collecting the results into a Pandas DataFrame\ngross_data = df_avg_gross_by_quarter.to_pandas()\n\n# Plotting the bar chart with the correct column names\nplt.figure(figsize=(8, 6))\nplt.bar(gross_data['QUARTER_FISCAL'], gross_data['AVG_GROSS'], color='skyblue')\nplt.xlabel('Fiscal Quarter')\nplt.ylabel('Average Gross')\nplt.title('Average Gross by Fiscal Quarter')\nplt.xticks(gross_data['QUARTER_FISCAL'])\nplt.show()\n",
   "execution_count": null
  },
  {
   "cell_type": "code",
   "id": "8baffae4-30bb-46ab-ab2f-2e62728bd30e",
   "metadata": {
    "language": "python",
    "name": "cell6"
   },
   "outputs": [],
   "source": "from snowflake.snowpark.functions import col, avg\nimport matplotlib.pyplot as plt\n\n# Aggregating the average gross by fiscal quarter\ndf_avg_gross_by_quarter = (df_dim_dates\n                           .join(df_dim_performance, df_dim_dates.date_key == df_dim_performance.PERFORMANCE_KEY)\n                           .group_by(df_dim_dates.year_value)\n                           .agg(avg(df_dim_performance.GROSS).alias(\"avg_gross\"))\n                           .sort(col(\"year_value\"))\n)\n\n# Collecting the results into a Pandas DataFrame\ngross_data = df_avg_gross_by_quarter.to_pandas()\n\n# Plotting the bar chart with the correct column names\nplt.figure(figsize=(8, 6))\nplt.bar(gross_data['YEAR_VALUE'], gross_data['AVG_GROSS'], color='skyblue')\nplt.xlabel('YEAR_VALUE')\nplt.ylabel('Average Gross')\nplt.title('Average Gross by YEAR')\nplt.xticks(gross_data['YEAR_VALUE'])\nplt.show()\n",
   "execution_count": null
  },
  {
   "cell_type": "code",
   "id": "50cc946e-47ed-46d1-8b88-147d0b97f35e",
   "metadata": {
    "language": "python",
    "name": "cell7"
   },
   "outputs": [],
   "source": "from snowflake.snowpark.functions import col, avg\nimport matplotlib.pyplot as plt\n\n# Aggregating the average budget by year (instead of fiscal quarter)\ndf_avg_budget_by_year = (\n    df_dim_dates\n    .join(df_dim_performance, df_dim_dates.date_key == df_dim_performance.PERFORMANCE_KEY)  # Corrected join\n    .group_by(df_dim_dates.year_value)  # Grouping by year_value\n    .agg(avg(df_dim_performance.BUDGET).alias(\"avg_BUDGET\"))\n    .sort(col(\"year_value\"))\n)\n\n# Collecting the results into a Pandas DataFrame\nbudget_data = df_avg_budget_by_year.to_pandas()\n\n# Plotting the bar chart with the correct column names\nplt.figure(figsize=(8, 6))\nplt.bar(budget_data['YEAR_VALUE'], budget_data['AVG_BUDGET'], color='skyblue')\nplt.xlabel('Year')\nplt.ylabel('Average Budget')\nplt.title('Average Budget by Year')\nplt.xticks(budget_data['YEAR_VALUE'], rotation=45)  # Rotating xticks for better visibility\nplt.show()\n",
   "execution_count": null
  },
  {
   "cell_type": "code",
   "id": "01e0499a-93e8-4e2a-92c3-87bf41aa08a8",
   "metadata": {
    "language": "python",
    "name": "cell8"
   },
   "outputs": [],
   "source": "from snowflake.snowpark.functions import col, avg\nimport matplotlib.pyplot as plt\n\n# Aggregating the average duration by year\ndf_avg_duration_by_year = (\n    df_dim_dates\n    .join(df_dim_junk, df_dim_dates.date_key == df_dim_junk.junk_key)  # Join with df_dim_junk for DURATION\n    .group_by(df_dim_dates.year_value)  # Grouping by year_value\n    .agg(avg(df_dim_junk.DURATION).alias(\"avg_DURATION\"))  # Correct column for duration from df_dim_junk\n    .sort(col(\"year_value\"))\n)\n\n# Collecting the results into a Pandas DataFrame\nduration_data = df_avg_duration_by_year.to_pandas()\n\n# Plotting the bar chart with the correct column names\nplt.figure(figsize=(8, 6))\nplt.bar(duration_data['YEAR_VALUE'], duration_data['AVG_DURATION'], color='skyblue')\nplt.xlabel('Year')\nplt.ylabel('Average Duration')\nplt.title('Average Duration by Year')  # Title reflecting \"Duration\"\nplt.xticks(duration_data['YEAR_VALUE'], rotation=45)  # Rotating xticks for better visibility\nplt.show()\n",
   "execution_count": null
  },
  {
   "cell_type": "code",
   "id": "86cc8533-d297-481f-99cb-523e6c57006f",
   "metadata": {
    "language": "python",
    "name": "cell9"
   },
   "outputs": [],
   "source": "from snowflake.snowpark.functions import col, avg\n\n# Join the DIM_JUNK and DIM_PERFORMANCE tables to get METASCORE and IMBD_NUM\ndf_joined = df_dim_junk.join(\n    df_dim_performance, \n    df_dim_junk[\"JUNK_KEY\"] == df_dim_performance[\"PERFORMANCE_KEY\"], \n    \"inner\"\n)\n\n# Group by LISTED_IN (single genre) and calculate the average METASCORE and IMBD_NUM\ndf_avg_score = df_joined.groupBy(\"LISTED_IN\").agg(\n    avg(\"METASCORE\").alias(\"avg_metascore\"),\n    avg(\"IMBD_NUM\").alias(\"avg_imdb\")\n)\n\n# Show the result\ndf_avg_score.show()\n\nimport pandas as pd\nimport matplotlib.pyplot as plt\n\n# Collect the result into a Pandas DataFrame\ndf_avg_score_pd = df_avg_score.to_pandas()\n\n# Plotting the graph using Pandas\nfig, ax1 = plt.subplots(figsize=(12, 6))\n\n# Plot the avg_metascore as a bar plot\ndf_avg_score_pd.plot(kind='bar', x='LISTED_IN', y='AVG_METASCORE', ax=ax1, color='b', alpha=0.6, legend=False)\n\n# Create a second y-axis to plot IMDB averages\nax2 = ax1.twinx()\ndf_avg_score_pd.plot(kind='line', x='LISTED_IN', y='AVG_IMDB', ax=ax2, color='r', marker='o', legend=False)\n\n# Adding labels and title\nax1.set_xlabel('Genre')\nax1.set_ylabel('Average Metascore', color='b')\nax2.set_ylabel('Average IMDB', color='r')\nplt.title('Average Metascore and IMDB per Genre')\n\n# Rotate x-axis labels for better readability\nplt.xticks(rotation=90)\n\n# Show the plot\nplt.tight_layout()\nplt.show()\n",
   "execution_count": null
  }
 ]
}