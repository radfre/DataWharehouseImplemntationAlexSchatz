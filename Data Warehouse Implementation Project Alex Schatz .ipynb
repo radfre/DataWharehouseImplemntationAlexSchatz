{
 "metadata": {
  "kernelspec": {
   "display_name": "Streamlit Notebook",
   "name": "streamlit"
  },
  "lastEditStatus": {
   "notebookId": "pppvcsd5lbfb7qc7tckg",
   "authorId": "6787178515854",
   "authorName": "ASCHATZ",
   "authorEmail": "aschatz@hawk.iit.edu",
   "sessionId": "3637d19c-b309-4e01-9022-c211a67ee4c1",
   "lastEditTime": 1742103771298
  }
 },
 "nbformat_minor": 5,
 "nbformat": 4,
 "cells": [
  {
   "cell_type": "markdown",
   "id": "40ac9a65-ab58-41f1-910e-b2c9f0449226",
   "metadata": {
    "name": "cell1",
    "collapsed": false
   },
   "source": "# Transalate Kaggle data into Source table"
  },
  {
   "cell_type": "code",
   "id": "69848991-b6e7-4ec0-aa40-745181dc5ef9",
   "metadata": {
    "language": "python",
    "name": "STEP2",
    "collapsed": false,
    "codeCollapsed": false
   },
   "outputs": [],
   "source": "# Import python packages\nimport streamlit as st\nimport pandas as pd\nimport numpy as np\nimport matplotlib.pyplot as plt\n\n\n# We can also use Snowpark for our analyses!\nfrom snowflake.snowpark.context import get_active_session\nfrom snowflake.snowpark import functions as F\nfrom snowflake.snowpark.window import Window\nsession = get_active_session()\n\n\ndf_amazon = session.table(\"hulu_MOVIES_TV\")\ndf_disney = session.table(\"disney_MOVIES_TV\")\ndf_hulu = session.table(\"HULU_MOVIES_TV\")\ndf_netflix = session.table(\"netflix_MOVIES_TV\")\n\ndf_industry = session.table(\"INDUSTRY_MOVIES\")\ndf_IMDB = session.table(\"IMDB_MOVIE_REVIEWS\")\n\n\n\n# Select only the required columns for df_amazon\ndf_amazon_with_columns = df_amazon \\\n    .select(\"TYPE\", \"TITLE\", \"DIRECTOR\", \"CAST\", \"COUNTRY\", \"RATING\", \"DATE_ADDED\", \n            \"RELEASE_YEAR\", \"DURATION\", \"LISTED_IN\")\n\n# Select only the required columns for df_disney\ndf_disney_with_columns = df_disney \\\n    .select(\"TYPE\", \"TITLE\", \"DIRECTOR\", \"CAST\", \"COUNTRY\", \"RATING\", \"DATE_ADDED\", \n            \"RELEASE_YEAR\", \"DURATION\", \"LISTED_IN\")\n\n# Select only the required columns for df_hulu\ndf_hulu_with_columns = df_hulu \\\n    .select(\"TYPE\", \"TITLE\", \"DIRECTOR\", \"CAST\", \"COUNTRY\", \"RATING\", \"DATE_ADDED\", \n            \"RELEASE_YEAR\", \"DURATION\", \"LISTED_IN\")\n\n# Select only the required columns for df_netflix\ndf_netflix_with_columns = df_netflix \\\n    .select(\"TYPE\", \"TITLE\", \"DIRECTOR\", \"CAST\", \"COUNTRY\", \"RATING\", \"DATE_ADDED\", \n            \"RELEASE_YEAR\", \"DURATION\", \"LISTED_IN\")\n\n# Union all the DataFrames into df_movie with the required columns\ndf_movie = df_amazon_with_columns \\\n    .union(df_disney_with_columns) \\\n    .union(df_hulu_with_columns) \\\n    .union(df_netflix_with_columns)\n\n# Drop duplicate titles\ndf_movie = df_movie.groupBy(\"TITLE\").agg(\n    F.coalesce(F.max(\"TYPE\"), F.lit(None)).alias(\"TYPE\"),\n    F.coalesce(F.max(\"DIRECTOR\"), F.lit(None)).alias(\"DIRECTOR\"),\n    F.coalesce(F.max(\"CAST\"), F.lit(None)).alias(\"CAST\"),\n    F.coalesce(F.max(\"COUNTRY\"), F.lit(None)).alias(\"COUNTRY\"),\n    F.coalesce(F.max(\"RATING\"), F.lit(None)).alias(\"RATING\"),\n    F.coalesce(F.max(\"DATE_ADDED\"), F.lit(None)).alias(\"DATE_ADDED\"),\n    F.coalesce(F.max(\"RELEASE_YEAR\"), F.lit(None)).alias(\"RELEASE_YEAR\"),\n    F.coalesce(F.max(\"DURATION\"), F.lit(None)).alias(\"DURATION\"),\n    F.coalesce(F.max(\"LISTED_IN\"), F.lit(None)).alias(\"LISTED_IN\")\n)\n\n# Add primary key (row number)\ndf_movie = df_movie.withColumn(\"Movies_key\", F.row_number().over(Window.orderBy(F.lit(1))))\n\n# Save to table (assuming Snowflake environment is set up)\ndf_movie.write \\\n    .mode(\"overwrite\") \\\n    .saveAsTable(\"MOVIES_TV\")\n\n\n### adding streaming tags\n# Add 'amazon_rating' and 'amazon' flag\ndf_amazon_with_rating = df_amazon \\\n    .select(\"TITLE\") \\\n    .with_column(\"amazon\", F.lit(True))\n\n# Add 'disney_rating' and 'disney' flag\ndf_disney_with_rating = df_disney \\\n    .select(\"TITLE\") \\\n    .with_column(\"disney\", F.lit(True))\n\n# Add 'hulu_rating' and 'hulu' flag\ndf_hulu_with_rating = df_hulu \\\n    .select(\"TITLE\") \\\n    .with_column(\"hulu\", F.lit(True))\n\n# Add 'netflix_rating' and 'netflix' flag\ndf_netflix_with_rating = df_netflix \\\n    .select(\"TITLE\") \\\n    .with_column(\"netflix\", F.lit(True))\n\n# Perform left joins with df_movie\ndf_movie = df_movie \\\n    .join(df_amazon_with_rating, on=\"TITLE\", how=\"left\") \\\n    .join(df_disney_with_rating, on=\"TITLE\", how=\"left\") \\\n    .join(df_hulu_with_rating, on=\"TITLE\", how=\"left\") \\\n    .join(df_netflix_with_rating, on=\"TITLE\", how=\"left\")\n\n\n# Save to table (assuming Snowflake environment is set up)\ndf_movie.write \\\n    .mode(\"overwrite\") \\\n    .save_as_table(\"MOVIES_TV\")\n\n# join iMBD TABLE and INDUSTRY Table \ndf_industry = df_industry.select(\n    df_industry[\"NAME\"].alias(\"TITLE\"),\n    df_industry[\"SCORE\"].alias(\"INDUSTRY_SCORE\"),\n    df_industry[\"VOTES\"].alias(\"INDUSTRY_VOTES\"),\n    df_industry[\"Budget\"],\n    df_industry[\"GROSS\"],\n    df_industry[\"COMPANY\"]\n)\n\ndf_IMDB = df_IMDB.select(\n    df_IMDB[\"NAME\"].alias(\"TITLE\"),\n    df_IMDB[\"IMBD_ID\"].alias(\"IMBD\"),\n    df_IMDB[\"RATING\"].alias(\"IMBD_RATING\"),\n    df_IMDB[\"METASCORE\"],\n    df_IMDB[\"VOTES\"].alias(\"IMBD_VOTES\")\n)\n\n# Perform a left join on the \"TITLE\" column\ndf_INDUSTRY_JOIN = df_industry.join(df_IMDB, on=\"TITLE\", how=\"left\")\n\n# Save to table (assuming Snowflake environment is set up)\ndf_INDUSTRY_JOIN.write \\\n    .mode(\"overwrite\") \\\n    .save_as_table(\"MOVIES_TV_REVIEWS\")\n\n# Perform a left join on the \"TITLE\" column\ndf_streaming = df_movie.join(df_INDUSTRY_JOIN, on=\"TITLE\", how=\"left\")\ndf_streaming.show()\n\n# Save to table (assuming Snowflake environment is set up)\ndf_streaming.write \\\n    .mode(\"overwrite\") \\\n    .save_as_table(\"STREAMING_MOVIES_TV\")\n",
   "execution_count": null
  },
  {
   "cell_type": "markdown",
   "id": "0268d442-baca-44c9-b412-47d8b67067e2",
   "metadata": {
    "name": "cell2",
    "collapsed": false
   },
   "source": "# Creating normative table from STREAMING_MOVIES_TV\n\n\n## Entities\n\n### 1. **nf_movies_tv_shows**\n| **Field**       | **Type**  | **Description**                                        |\n|-----------------|-----------|--------------------------------------------------------|\n| MOVIES_KEY      | INT       | Primary Key. Unique identifier for each movie/show.    |\n| TITLE           | VARCHAR   | Title of the movie or TV show.                         |\n| TYPE            | VARCHAR   | Type of content (e.g., Movie, TV Show).                |\n| RATING          | VARCHAR   | Rating (e.g., TV-PG, R, NULL for some).                |\n| DATE_ADDED      | DATE      | Date when the movie/show was added.                    |\n| RELEASE_YEAR    | INT       | Year of release.                                       |\n| DURATION        | VARCHAR   | Duration of the movie/show (e.g., 88 min, 1 Season).   |\n| LISTED_IN       | VARCHAR   | Categories of the movie/show (e.g., Horror, Thriller). |\n\n### 2. **nf_cast**\n| **Field**       | **Type**  | **Description**                                        |\n|-----------------|-----------|--------------------------------------------------------|\n| MOVIES_KEY      | INT       | Foreign Key. References MOVIES_KEY in `nf_movies_tv_shows`. |\n| nf_cast            | VARCHAR   | Name(s) of the nf_cast members. (NULL if unavailable).    |\n\n### 3. **nf_countries**\n| **Field**       | **Type**  | **Description**                                        |\n|-----------------|-----------|--------------------------------------------------------|\n| MOVIES_KEY      | INT       | Foreign Key. References MOVIES_KEY in `nf_movies_tv_shows`. |\n| COUNTRY         | VARCHAR   | Country/Region where the movie/show is available.      |\n\n### 4. **nf_platforms**\n| **Field**       | **Type**  | **Description**                                        |\n|-----------------|-----------|--------------------------------------------------------|\n| MOVIES_KEY      | INT       | Foreign Key. References MOVIES_KEY in `nf_movies_tv_shows`. |\n| AMAZON          | BOOLEAN   | Availability on Amazon (True/False).                   |\n| DISNEY          | BOOLEAN   | Availability on Disney+ (True/False).                  |\n| HULU            | BOOLEAN   | Availability on Hulu (True/False).                     |\n| NETFLIX         | BOOLEAN   | Availability on Netflix (True/False).                  |\n\n### 5. **nf_ratings**\n| **Field**       | **Type**  | **Description**                                        |\n|-----------------|-----------|--------------------------------------------------------|\n| MOVIES_KEY      | INT       | Foreign Key. References MOVIES_KEY in `nf_movies_tv_shows`. |\n| IMBD            | INT       | IMDB ID for the movie/show.                            |\n| IMBD_RATING     | FLOAT     | IMDB rating of the movie/show.                         |\n| METASCORE       | INT       | Metascore rating of the movie/show.                    |\n| IMBD_VOTES      | INT       | Number of IMDB votes for the movie/show.               |\n\n### 6. **nf_industry**\n| **Field**       | **Type**  | **Description**                                        |\n|-----------------|-----------|--------------------------------------------------------|\n| MOVIES_KEY      | INT       | Foreign Key. References MOVIES_KEY in `nf_movies_tv_shows`. |\n| BUDGET          | DECIMAL   | Budget of the movie/show.                              |\n| GROSS           | DECIMAL   | Gross earnings of the movie/show.                      |\n| COMPANY         | VARCHAR   | Production company of the movie/show.                  |\n\n"
  },
  {
   "cell_type": "code",
   "id": "8fc21e44-a50e-4d4f-acbe-6cb436951892",
   "metadata": {
    "language": "sql",
    "name": "STEP3"
   },
   "outputs": [],
   "source": "CREATE OR REPLACE TABLE nf_movies_tv_shows AS\nSELECT \n    MOVIES_KEY, \n    TITLE, \n    TYPE, \n    RATING, \n    DATE_ADDED, \n    RELEASE_YEAR, \n    DURATION, \n    LISTED_IN\nFROM STREAMING_MOVIES_TV;\nALTER TABLE nf_movies_tv_shows\nADD PRIMARY KEY (MOVIES_KEY);\n\n\nCREATE OR REPLACE TABLE nf_cast AS\nSELECT \n    MOVIES_KEY, \n    \"CAST\"\nFROM STREAMING_MOVIES_TV\nWHERE \"CAST\" IS NOT NULL;\nALTER TABLE nf_countries\nADD CONSTRAINT fk_movies_key FOREIGN KEY (MOVIES_KEY) REFERENCES nf_movies_tv_shows(MOVIES_KEY);\n\n\nCREATE OR REPLACE TABLE nf_countries AS\nSELECT \n    MOVIES_KEY, \n    COUNTRY\nFROM STREAMING_MOVIES_TV\nWHERE COUNTRY IS NOT NULL;\nALTER TABLE nf_countries\nADD CONSTRAINT fk_movies_key FOREIGN KEY (MOVIES_KEY) REFERENCES nf_movies_tv_shows(MOVIES_KEY);\n\n\nCREATE OR REPLACE TABLE nf_platforms AS\nSELECT \n    MOVIES_KEY, \n    amazon, \n    disney, \n    hulu, \n    netflix\nFROM STREAMING_MOVIES_TV;\nALTER TABLE nf_platforms\nADD CONSTRAINT fk_movies_key FOREIGN KEY (MOVIES_KEY) REFERENCES nf_movies_tv_shows(MOVIES_KEY);\n\n\nCREATE OR REPLACE TABLE nf_ratings AS\nSELECT \n    MOVIES_KEY, \n    IMBD, \n    IMBD_RATING, \n    METASCORE, \n    IMBD_VOTES\nFROM STREAMING_MOVIES_TV;\nALTER TABLE nf_ratings\nADD CONSTRAINT fk_movies_key FOREIGN KEY (MOVIES_KEY) REFERENCES nf_movies_tv_shows(MOVIES_KEY);\n\n\nCREATE OR REPLACE TABLE nf_industry AS\nSELECT \n    MOVIES_KEY, \n    BUDGET, \n    GROSS, \n    COMPANY\nFROM STREAMING_MOVIES_TV;\nALTER TABLE nf_industry\nADD CONSTRAINT fk_movies_key FOREIGN KEY (MOVIES_KEY) REFERENCES nf_movies_tv_shows(MOVIES_KEY);",
   "execution_count": null
  }
 ]
}